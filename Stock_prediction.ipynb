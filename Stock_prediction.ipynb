{
  "nbformat": 4,
  "nbformat_minor": 0,
  "metadata": {
    "colab": {
      "name": "Stock_prediction.ipynb",
      "provenance": [],
      "collapsed_sections": [],
      "authorship_tag": "ABX9TyOpJkV5/IuJ8vTT4jWAdDYk",
      "include_colab_link": true
    },
    "kernelspec": {
      "name": "python3",
      "display_name": "Python 3"
    }
  },
  "cells": [
    {
      "cell_type": "markdown",
      "metadata": {
        "id": "view-in-github",
        "colab_type": "text"
      },
      "source": [
        "<a href=\"https://colab.research.google.com/github/MedulHasan/Thesis/blob/master/Stock_prediction.ipynb\" target=\"_parent\"><img src=\"https://colab.research.google.com/assets/colab-badge.svg\" alt=\"Open In Colab\"/></a>"
      ]
    },
    {
      "cell_type": "code",
      "metadata": {
        "id": "9ZKfFo0jyJ5Q",
        "colab_type": "code",
        "colab": {
          "base_uri": "https://localhost:8080/",
          "height": 104
        },
        "outputId": "658a82c0-7105-4954-823e-039ee815eccc"
      },
      "source": [
        "import pandas as pd\n",
        "import pandas_datareader as web\n",
        "import math\n",
        "import numpy as np\n",
        "from sklearn.preprocessing import MinMaxScaler\n",
        "from keras.models import Sequential\n",
        "from keras.layers import Dense, LSTM\n",
        "import matplotlib.pyplot as plt\n",
        "plt.style.use('fivethirtyeight')"
      ],
      "execution_count": 1,
      "outputs": [
        {
          "output_type": "stream",
          "text": [
            "/usr/local/lib/python3.6/dist-packages/pandas_datareader/compat/__init__.py:7: FutureWarning: pandas.util.testing is deprecated. Use the functions in the public API at pandas.testing instead.\n",
            "  from pandas.util.testing import assert_frame_equal\n",
            "Using TensorFlow backend.\n"
          ],
          "name": "stderr"
        }
      ]
    },
    {
      "cell_type": "code",
      "metadata": {
        "id": "nuBGtxXwZAwT",
        "colab_type": "code",
        "colab": {
          "base_uri": "https://localhost:8080/",
          "height": 52
        },
        "outputId": "d92e7af2-c1bf-4c4a-b7e0-63e31f5d571e"
      },
      "source": [
        "'''import io\n",
        "from google.colab import files\n",
        "uploaded = files.upload()'''"
      ],
      "execution_count": 2,
      "outputs": [
        {
          "output_type": "execute_result",
          "data": {
            "application/vnd.google.colaboratory.intrinsic+json": {
              "type": "string"
            },
            "text/plain": [
              "'import io\\nfrom google.colab import files\\nuploaded = files.upload()'"
            ]
          },
          "metadata": {
            "tags": []
          },
          "execution_count": 2
        }
      ]
    },
    {
      "cell_type": "code",
      "metadata": {
        "id": "pXnOOdeAVauQ",
        "colab_type": "code",
        "colab": {
          "base_uri": "https://localhost:8080/",
          "height": 418
        },
        "outputId": "e7418a99-b294-48c3-e7e9-fb11b4d8a549"
      },
      "source": [
        "#df = web.DataReader('TM', data_source='yahoo', start='2012-01-01', end='2019-12-17')\n",
        "csv_file = 'aci_data.csv'\n",
        "df = pd.read_csv(csv_file)\n",
        "df"
      ],
      "execution_count": 3,
      "outputs": [
        {
          "output_type": "execute_result",
          "data": {
            "text/html": [
              "<div>\n",
              "<style scoped>\n",
              "    .dataframe tbody tr th:only-of-type {\n",
              "        vertical-align: middle;\n",
              "    }\n",
              "\n",
              "    .dataframe tbody tr th {\n",
              "        vertical-align: top;\n",
              "    }\n",
              "\n",
              "    .dataframe thead th {\n",
              "        text-align: right;\n",
              "    }\n",
              "</style>\n",
              "<table border=\"1\" class=\"dataframe\">\n",
              "  <thead>\n",
              "    <tr style=\"text-align: right;\">\n",
              "      <th></th>\n",
              "      <th>SL NO</th>\n",
              "      <th>Date</th>\n",
              "      <th>TRADING CODE</th>\n",
              "      <th>Close</th>\n",
              "      <th>YCP*</th>\n",
              "    </tr>\n",
              "  </thead>\n",
              "  <tbody>\n",
              "    <tr>\n",
              "      <th>0</th>\n",
              "      <td>1</td>\n",
              "      <td>6/30/2020</td>\n",
              "      <td>ACI</td>\n",
              "      <td>204.2</td>\n",
              "      <td>200.8</td>\n",
              "    </tr>\n",
              "    <tr>\n",
              "      <th>1</th>\n",
              "      <td>2</td>\n",
              "      <td>6/29/2020</td>\n",
              "      <td>ACI</td>\n",
              "      <td>200.8</td>\n",
              "      <td>197.6</td>\n",
              "    </tr>\n",
              "    <tr>\n",
              "      <th>2</th>\n",
              "      <td>3</td>\n",
              "      <td>6/28/2020</td>\n",
              "      <td>ACI</td>\n",
              "      <td>197.6</td>\n",
              "      <td>193.1</td>\n",
              "    </tr>\n",
              "    <tr>\n",
              "      <th>3</th>\n",
              "      <td>4</td>\n",
              "      <td>6/25/2020</td>\n",
              "      <td>ACI</td>\n",
              "      <td>193.1</td>\n",
              "      <td>192.5</td>\n",
              "    </tr>\n",
              "    <tr>\n",
              "      <th>4</th>\n",
              "      <td>5</td>\n",
              "      <td>6/24/2020</td>\n",
              "      <td>ACI</td>\n",
              "      <td>192.5</td>\n",
              "      <td>192.4</td>\n",
              "    </tr>\n",
              "    <tr>\n",
              "      <th>...</th>\n",
              "      <td>...</td>\n",
              "      <td>...</td>\n",
              "      <td>...</td>\n",
              "      <td>...</td>\n",
              "      <td>...</td>\n",
              "    </tr>\n",
              "    <tr>\n",
              "      <th>419</th>\n",
              "      <td>420</td>\n",
              "      <td>7/31/2018</td>\n",
              "      <td>ACI</td>\n",
              "      <td>363.0</td>\n",
              "      <td>363.3</td>\n",
              "    </tr>\n",
              "    <tr>\n",
              "      <th>420</th>\n",
              "      <td>421</td>\n",
              "      <td>7/30/2018</td>\n",
              "      <td>ACI</td>\n",
              "      <td>363.3</td>\n",
              "      <td>371.0</td>\n",
              "    </tr>\n",
              "    <tr>\n",
              "      <th>421</th>\n",
              "      <td>422</td>\n",
              "      <td>7/29/2018</td>\n",
              "      <td>ACI</td>\n",
              "      <td>371.0</td>\n",
              "      <td>377.6</td>\n",
              "    </tr>\n",
              "    <tr>\n",
              "      <th>422</th>\n",
              "      <td>423</td>\n",
              "      <td>7/26/2018</td>\n",
              "      <td>ACI</td>\n",
              "      <td>377.6</td>\n",
              "      <td>369.0</td>\n",
              "    </tr>\n",
              "    <tr>\n",
              "      <th>423</th>\n",
              "      <td>424</td>\n",
              "      <td>7/25/2018</td>\n",
              "      <td>ACI</td>\n",
              "      <td>369.0</td>\n",
              "      <td>373.1</td>\n",
              "    </tr>\n",
              "  </tbody>\n",
              "</table>\n",
              "<p>424 rows × 5 columns</p>\n",
              "</div>"
            ],
            "text/plain": [
              "     SL NO       Date TRADING CODE  Close   YCP*\n",
              "0        1  6/30/2020          ACI  204.2  200.8\n",
              "1        2  6/29/2020          ACI  200.8  197.6\n",
              "2        3  6/28/2020          ACI  197.6  193.1\n",
              "3        4  6/25/2020          ACI  193.1  192.5\n",
              "4        5  6/24/2020          ACI  192.5  192.4\n",
              "..     ...        ...          ...    ...    ...\n",
              "419    420  7/31/2018          ACI  363.0  363.3\n",
              "420    421  7/30/2018          ACI  363.3  371.0\n",
              "421    422  7/29/2018          ACI  371.0  377.6\n",
              "422    423  7/26/2018          ACI  377.6  369.0\n",
              "423    424  7/25/2018          ACI  369.0  373.1\n",
              "\n",
              "[424 rows x 5 columns]"
            ]
          },
          "metadata": {
            "tags": []
          },
          "execution_count": 3
        }
      ]
    },
    {
      "cell_type": "code",
      "metadata": {
        "id": "HIgEgZaPVeL3",
        "colab_type": "code",
        "colab": {
          "base_uri": "https://localhost:8080/",
          "height": 50
        },
        "outputId": "4f1e4a4d-33e4-4496-884f-17696a94fa5b"
      },
      "source": [
        "#number of rows and columns\n",
        "df.shape"
      ],
      "execution_count": 4,
      "outputs": [
        {
          "output_type": "execute_result",
          "data": {
            "text/plain": [
              "(424, 5)"
            ]
          },
          "metadata": {
            "tags": []
          },
          "execution_count": 4
        }
      ]
    },
    {
      "cell_type": "code",
      "metadata": {
        "id": "xqgSBqQGVh00",
        "colab_type": "code",
        "colab": {
          "base_uri": "https://localhost:8080/",
          "height": 531
        },
        "outputId": "a5dfa530-2e1f-425e-e018-882ed69d60f2"
      },
      "source": [
        "#visulize the closing price\n",
        "plt.figure(figsize=(16,8))\n",
        "plt.title('Close Price History')\n",
        "plt.plot(df['Close'])\n",
        "plt.xlabel('Data', fontsize=14)\n",
        "plt.ylabel(('Close price'), fontsize=14)\n",
        "plt.show()"
      ],
      "execution_count": 5,
      "outputs": [
        {
          "output_type": "display_data",
          "data": {
            "image/png": "[encoded data removed]",
            "text/plain": [
              "<Figure size 1152x576 with 1 Axes>"
            ]
          },
          "metadata": {
            "tags": [],
            "needs_background": "light"
          }
        }
      ]
    },
    {
      "cell_type": "code",
      "metadata": {
        "id": "Jd9H-BW6dw4g",
        "colab_type": "code",
        "colab": {
          "base_uri": "https://localhost:8080/",
          "height": 50
        },
        "outputId": "fba2e75a-335b-4ed8-e7ac-c5d0f25001ce"
      },
      "source": [
        "#create a new dataframe with close_price\n",
        "data = df.filter(['Close'])\n",
        "#convert the dataframe to a numpy array\n",
        "dataset = data.values\n",
        "#dataset\n",
        "\n",
        "#get the number of row to train the model\n",
        "train_data_len = math.ceil(len(dataset) * 0.8)\n",
        "train_data_len"
      ],
      "execution_count": 6,
      "outputs": [
        {
          "output_type": "execute_result",
          "data": {
            "text/plain": [
              "340"
            ]
          },
          "metadata": {
            "tags": []
          },
          "execution_count": 6
        }
      ]
    },
    {
      "cell_type": "code",
      "metadata": {
        "id": "iYG40WtHX5P2",
        "colab_type": "code",
        "colab": {}
      },
      "source": [
        "#scale tha data\n",
        "'''calculate min_max_scaler formula =  \"(x_i - x_min) / (x_max - x_min)\"     '''\n",
        "scaler = MinMaxScaler(feature_range=(0,1))\n",
        "scaled_data = scaler.fit_transform(dataset)\n",
        "#scaled_data"
      ],
      "execution_count": 7,
      "outputs": []
    },
    {
      "cell_type": "code",
      "metadata": {
        "id": "jx0ynBlaWNbc",
        "colab_type": "code",
        "colab": {
          "base_uri": "https://localhost:8080/",
          "height": 386
        },
        "outputId": "685b73dd-9b76-4e91-8770-cdcddbb81279"
      },
      "source": [
        "#training data set\n",
        "#creat the scaled training data set\n",
        "train_data = scaled_data[0:train_data_len, :]\n",
        "#split the data into x_train and y_train\n",
        "x_train = []\n",
        "y_train = []\n",
        "\n",
        "for i in range(30, len(train_data)):\n",
        "  x_train.append(train_data[i-30:i, 0])\n",
        "  y_train.append(train_data[i, 0])\n",
        "  if i<=31:\n",
        "    print(x_train)\n",
        "    print(y_train)\n",
        "    print()"
      ],
      "execution_count": 8,
      "outputs": [
        {
          "output_type": "stream",
          "text": [
            "[array([0.17112811, 0.15487572, 0.13957935, 0.11806883, 0.11520076,\n",
            "       0.11472275, 0.11042065, 0.11042065, 0.11520076, 0.08365201,\n",
            "       0.08413002, 0.083174  , 0.10564054, 0.12284895, 0.09894837,\n",
            "       0.11328872, 0.10516252, 0.12428298, 0.11281071, 0.1333652 ,\n",
            "       0.16300191, 0.19694073, 0.22848948, 0.13479924, 0.11759082,\n",
            "       0.16156788, 0.10468451, 0.06357553, 0.        , 0.0334608 ])]\n",
            "[0.06118546845124273]\n",
            "\n",
            "[array([0.17112811, 0.15487572, 0.13957935, 0.11806883, 0.11520076,\n",
            "       0.11472275, 0.11042065, 0.11042065, 0.11520076, 0.08365201,\n",
            "       0.08413002, 0.083174  , 0.10564054, 0.12284895, 0.09894837,\n",
            "       0.11328872, 0.10516252, 0.12428298, 0.11281071, 0.1333652 ,\n",
            "       0.16300191, 0.19694073, 0.22848948, 0.13479924, 0.11759082,\n",
            "       0.16156788, 0.10468451, 0.06357553, 0.        , 0.0334608 ]), array([0.15487572, 0.13957935, 0.11806883, 0.11520076, 0.11472275,\n",
            "       0.11042065, 0.11042065, 0.11520076, 0.08365201, 0.08413002,\n",
            "       0.083174  , 0.10564054, 0.12284895, 0.09894837, 0.11328872,\n",
            "       0.10516252, 0.12428298, 0.11281071, 0.1333652 , 0.16300191,\n",
            "       0.19694073, 0.22848948, 0.13479924, 0.11759082, 0.16156788,\n",
            "       0.10468451, 0.06357553, 0.        , 0.0334608 , 0.06118547])]\n",
            "[0.06118546845124273, 0.10277246653919692]\n",
            "\n"
          ],
          "name": "stdout"
        }
      ]
    },
    {
      "cell_type": "code",
      "metadata": {
        "id": "tA2h3C2gWj9a",
        "colab_type": "code",
        "colab": {}
      },
      "source": [
        "#convert the x_train and y_train to numpy arrays\n",
        "x_train, y_train = np.array(x_train), np.array(y_train)"
      ],
      "execution_count": 9,
      "outputs": []
    },
    {
      "cell_type": "code",
      "metadata": {
        "id": "S8Tza_b0Wnk_",
        "colab_type": "code",
        "colab": {
          "base_uri": "https://localhost:8080/",
          "height": 50
        },
        "outputId": "fe1ee00d-14d4-4e7c-f27d-adfbf359d33f"
      },
      "source": [
        "#reshape the data\n",
        "x_train = np.reshape(x_train, (x_train.shape[0], x_train.shape[1], 1))\n",
        "x_train.shape"
      ],
      "execution_count": 10,
      "outputs": [
        {
          "output_type": "execute_result",
          "data": {
            "text/plain": [
              "(310, 30, 1)"
            ]
          },
          "metadata": {
            "tags": []
          },
          "execution_count": 10
        }
      ]
    },
    {
      "cell_type": "code",
      "metadata": {
        "id": "mqqXPQnrWsZ1",
        "colab_type": "code",
        "colab": {}
      },
      "source": [
        "#build the LSTM model\n",
        "model = Sequential()\n",
        "model.add(LSTM(50, return_sequences=True, input_shape = (x_train.shape[1], 1)))\n",
        "model.add(LSTM(50, return_sequences = False))\n",
        "model.add(Dense(25))\n",
        "model.add(Dense(1))"
      ],
      "execution_count": 11,
      "outputs": []
    },
    {
      "cell_type": "code",
      "metadata": {
        "id": "GdkCKzzLWvmd",
        "colab_type": "code",
        "colab": {}
      },
      "source": [
        "#compile the model\n",
        "model.compile(optimizer='adam', loss='mean_squared_error')"
      ],
      "execution_count": 12,
      "outputs": []
    },
    {
      "cell_type": "code",
      "metadata": {
        "id": "Gu69pJh9Wy1g",
        "colab_type": "code",
        "colab": {
          "base_uri": "https://localhost:8080/",
          "height": 84
        },
        "outputId": "85ee9951-a444-4da0-e636-f62d7b731bcf"
      },
      "source": [
        "#train the model\n",
        "model.fit(x_train, y_train, batch_size=1, epochs=1)#"
      ],
      "execution_count": 13,
      "outputs": [
        {
          "output_type": "stream",
          "text": [
            "Epoch 1/1\n",
            "310/310 [==============================] - 10s 34ms/step - loss: 0.0112\n"
          ],
          "name": "stdout"
        },
        {
          "output_type": "execute_result",
          "data": {
            "text/plain": [
              "<keras.callbacks.callbacks.History at 0x7f1759b72da0>"
            ]
          },
          "metadata": {
            "tags": []
          },
          "execution_count": 13
        }
      ]
    },
    {
      "cell_type": "code",
      "metadata": {
        "id": "PYFJLf54W7A2",
        "colab_type": "code",
        "colab": {}
      },
      "source": [
        "#create the testing data\n",
        "#create a new array containing scaled values from index 1543 to 2003\n",
        "test_data = scaled_data[train_data_len - 30:, :]\n",
        "#create the data set x_test and y_test\n",
        "x_test = []\n",
        "y_test = dataset[train_data_len:, :]\n",
        "for i in range(30, len(test_data)):\n",
        "  x_test.append(test_data[i-30:i, 0])"
      ],
      "execution_count": 14,
      "outputs": []
    },
    {
      "cell_type": "code",
      "metadata": {
        "id": "zXSmDq40XB4i",
        "colab_type": "code",
        "colab": {}
      },
      "source": [
        "#convert the data to a numpy array\n",
        "x_test = np.array(x_test)"
      ],
      "execution_count": 15,
      "outputs": []
    },
    {
      "cell_type": "code",
      "metadata": {
        "id": "Gvk8ir0uXCE_",
        "colab_type": "code",
        "colab": {}
      },
      "source": [
        "#reshape the data\n",
        "x_test = np.reshape(x_test, (x_test.shape[0], x_test.shape[1], 1))"
      ],
      "execution_count": 16,
      "outputs": []
    },
    {
      "cell_type": "code",
      "metadata": {
        "id": "lhih9dL9XG-V",
        "colab_type": "code",
        "colab": {}
      },
      "source": [
        "#get the models predicted price values\n",
        "predictions = model.predict(x_test)\n",
        "predictions = scaler.inverse_transform(predictions)"
      ],
      "execution_count": 17,
      "outputs": []
    },
    {
      "cell_type": "code",
      "metadata": {
        "id": "8J0-xK8NXHBs",
        "colab_type": "code",
        "colab": {
          "base_uri": "https://localhost:8080/",
          "height": 50
        },
        "outputId": "ac818fa8-6521-4aa5-d8c6-d2bb142b42c1"
      },
      "source": [
        "#get the root mean squared error (RMSE)\n",
        "rmse = np.sqrt(np.mean(predictions - y_test) **2)\n",
        "rmse"
      ],
      "execution_count": 18,
      "outputs": [
        {
          "output_type": "execute_result",
          "data": {
            "text/plain": [
              "1.0756367274693066"
            ]
          },
          "metadata": {
            "tags": []
          },
          "execution_count": 18
        }
      ]
    },
    {
      "cell_type": "code",
      "metadata": {
        "id": "XBlA1OCPXCQJ",
        "colab_type": "code",
        "colab": {
          "base_uri": "https://localhost:8080/",
          "height": 636
        },
        "outputId": "28773828-81c2-4556-82b1-eb15e4479533"
      },
      "source": [
        "#plot the data\n",
        "train = data[:train_data_len]\n",
        "valid = data[train_data_len:]\n",
        "valid['Predictions']  = predictions\n",
        "#visualized the data\n",
        "plt.figure(figsize=(16,8))\n",
        "plt.title('Model')\n",
        "plt.xlabel('Data', fontsize=18)\n",
        "plt.ylabel('Close price', fontsize=18)\n",
        "plt.plot(train['Close'])\n",
        "plt.plot(valid[['Close', 'Predictions']])\n",
        "plt.legend(['Train', 'Real', 'Predictions'], loc = 'lower right')\n",
        "plt.show()"
      ],
      "execution_count": 19,
      "outputs": [
        {
          "output_type": "stream",
          "text": [
            "/usr/local/lib/python3.6/dist-packages/ipykernel_launcher.py:4: SettingWithCopyWarning: \n",
            "A value is trying to be set on a copy of a slice from a DataFrame.\n",
            "Try using .loc[row_indexer,col_indexer] = value instead\n",
            "\n",
            "See the caveats in the documentation: https://pandas.pydata.org/pandas-docs/stable/user_guide/indexing.html#returning-a-view-versus-a-copy\n",
            "  after removing the cwd from sys.path.\n"
          ],
          "name": "stderr"
        },
        {
          "output_type": "display_data",
          "data": {
            "image/png": "[encoded data removed]",
            "text/plain": [
              "<Figure size 1152x576 with 1 Axes>"
            ]
          },
          "metadata": {
            "tags": [],
            "needs_background": "light"
          }
        }
      ]
    },
    {
      "cell_type": "code",
      "metadata": {
        "id": "fOgThcrGYVpD",
        "colab_type": "code",
        "colab": {
          "base_uri": "https://localhost:8080/",
          "height": 418
        },
        "outputId": "42b22f73-dad0-43d9-cedf-b4d68357a65c"
      },
      "source": [
        "#show the valid and predicted price\n",
        "valid"
      ],
      "execution_count": 20,
      "outputs": [
        {
          "output_type": "execute_result",
          "data": {
            "text/html": [
              "<div>\n",
              "<style scoped>\n",
              "    .dataframe tbody tr th:only-of-type {\n",
              "        vertical-align: middle;\n",
              "    }\n",
              "\n",
              "    .dataframe tbody tr th {\n",
              "        vertical-align: top;\n",
              "    }\n",
              "\n",
              "    .dataframe thead th {\n",
              "        text-align: right;\n",
              "    }\n",
              "</style>\n",
              "<table border=\"1\" class=\"dataframe\">\n",
              "  <thead>\n",
              "    <tr style=\"text-align: right;\">\n",
              "      <th></th>\n",
              "      <th>Close</th>\n",
              "      <th>Predictions</th>\n",
              "    </tr>\n",
              "  </thead>\n",
              "  <tbody>\n",
              "    <tr>\n",
              "      <th>340</th>\n",
              "      <td>331.6</td>\n",
              "      <td>328.928467</td>\n",
              "    </tr>\n",
              "    <tr>\n",
              "      <th>341</th>\n",
              "      <td>331.9</td>\n",
              "      <td>329.543030</td>\n",
              "    </tr>\n",
              "    <tr>\n",
              "      <th>342</th>\n",
              "      <td>334.3</td>\n",
              "      <td>330.289276</td>\n",
              "    </tr>\n",
              "    <tr>\n",
              "      <th>343</th>\n",
              "      <td>335.9</td>\n",
              "      <td>331.220856</td>\n",
              "    </tr>\n",
              "    <tr>\n",
              "      <th>344</th>\n",
              "      <td>335.7</td>\n",
              "      <td>332.291565</td>\n",
              "    </tr>\n",
              "    <tr>\n",
              "      <th>...</th>\n",
              "      <td>...</td>\n",
              "      <td>...</td>\n",
              "    </tr>\n",
              "    <tr>\n",
              "      <th>419</th>\n",
              "      <td>363.0</td>\n",
              "      <td>368.145142</td>\n",
              "    </tr>\n",
              "    <tr>\n",
              "      <th>420</th>\n",
              "      <td>363.3</td>\n",
              "      <td>367.695160</td>\n",
              "    </tr>\n",
              "    <tr>\n",
              "      <th>421</th>\n",
              "      <td>371.0</td>\n",
              "      <td>367.245422</td>\n",
              "    </tr>\n",
              "    <tr>\n",
              "      <th>422</th>\n",
              "      <td>377.6</td>\n",
              "      <td>367.356750</td>\n",
              "    </tr>\n",
              "    <tr>\n",
              "      <th>423</th>\n",
              "      <td>369.0</td>\n",
              "      <td>368.185425</td>\n",
              "    </tr>\n",
              "  </tbody>\n",
              "</table>\n",
              "<p>84 rows × 2 columns</p>\n",
              "</div>"
            ],
            "text/plain": [
              "     Close  Predictions\n",
              "340  331.6   328.928467\n",
              "341  331.9   329.543030\n",
              "342  334.3   330.289276\n",
              "343  335.9   331.220856\n",
              "344  335.7   332.291565\n",
              "..     ...          ...\n",
              "419  363.0   368.145142\n",
              "420  363.3   367.695160\n",
              "421  371.0   367.245422\n",
              "422  377.6   367.356750\n",
              "423  369.0   368.185425\n",
              "\n",
              "[84 rows x 2 columns]"
            ]
          },
          "metadata": {
            "tags": []
          },
          "execution_count": 20
        }
      ]
    }
  ]
}